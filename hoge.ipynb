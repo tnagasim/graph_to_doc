{
 "cells": [
  {
   "cell_type": "code",
   "execution_count": 44,
   "metadata": {},
   "outputs": [
    {
     "name": "stdout",
     "output_type": "stream",
     "text": [
      "Warning: When  cdn_resources is 'local' jupyter notebook has issues displaying graphics on chrome/safari. Use cdn_resources='in_line' or cdn_resources='remote' if you have issues viewing graphics in a notebook.\n",
      "pyvis_sample1.html\n"
     ]
    }
   ],
   "source": [
    "from bs4 import BeautifulSoup\n",
    "from pyvis.network import Network\n",
    "\n",
    "# # ネットワークのインスタンス生成\n",
    "network = Network(\n",
    "    height=\"400px\",  # デフォルト \"500px\"\n",
    "    width=\"400px\",  # デフォルト \"500px\"\n",
    "    notebook=True,  # これをTrueにしておくとjupyter上で結果が見れる\n",
    "    directed=True,  # Trueにすると有向グラフ。デフォルトはFalseで無向グラフ\n",
    ")\n",
    "\n",
    "# add_node でノードを追加\n",
    "# label は省略可能。省略するとidと同じになる。\n",
    "network.add_node(n_id=1, label=1, shape=\"circle\"\n",
    "                 , title='<a href=\"https://gihyo.jp/\" target=\"iframe\">gihyo</a>')\n",
    "network.add_node(n_id=2, label=2, shape=\"box\", color=\"green\"\n",
    "                 , title='<a href=\"https://www.centrair.jp/\" target=\"iframe\">centrair</a>')\n",
    "network.add_node(n_id=4, label=4\n",
    "                 , title='<a href=\"https://neut.co.jp/data-engineering/\" target=\"iframe\">data-engineering</a>')  # shape を省略すると、 shape=\"dot\"と同じになる\n",
    "network.add_node(n_id=3, label=3\n",
    "                 , title='<a href=\"https://ntechs.jp/\" target=\"iframe\">ntechs</a>')\n",
    "\n",
    "# add_edge でエッジを追加\n",
    "network.add_edge(1, 2,)\n",
    "network.add_edge(2, 4, width=2)  # width で太さを変えられる\n",
    "network.add_edge(3, 4, smooth=\"dynamic\")  # smooth を指定することで、エッジを曲線にできる\n",
    "network.add_edge(4, 3, smooth=\"dynamic\")  # エッジを曲線にすると双方向のエッジを別の線にできる。(直線だと重なる)\n",
    "\n",
    "# 指定したファイル名でHTMLを出力。\n",
    "network.show(\"index.html\")\n",
    "\n",
    "with open('index.html', mode='rt', encoding='utf-8') as f:\n",
    "    soup = BeautifulSoup(f.read(), 'html.parser')\n",
    "\n",
    "cardbody = soup.find('div').find('div')\n",
    "script = soup.find_all('script')[-1]\n",
    "soup.body.clear()\n",
    "soup.find('body').append(cardbody)\n",
    "\n",
    "browser = soup.new_tag('div')\n",
    "browser.attrs['id'] = 'browser'\n",
    "soup.find('body').append(browser)\n",
    "soup.find('body').append(script)\n",
    "\n",
    "nt = soup.new_tag('iframe')\n",
    "nt.attrs['src'] = 'https://www.neut.co.jp'\n",
    "nt.attrs['name'] = 'iframe'\n",
    "nt.attrs['height'] = '400px'\n",
    "nt.attrs['width'] = '400px'\n",
    "soup.find_all('div')[1].append(nt)\n",
    "\n",
    "with open('index.html', mode='w') as f:\n",
    "    f.write(str(soup))\n"
   ]
  },
  {
   "cell_type": "code",
   "execution_count": null,
   "metadata": {},
   "outputs": [],
   "source": []
  }
 ],
 "metadata": {
  "kernelspec": {
   "display_name": "Python 3",
   "language": "python",
   "name": "python3"
  },
  "language_info": {
   "codemirror_mode": {
    "name": "ipython",
    "version": 3
   },
   "file_extension": ".py",
   "mimetype": "text/x-python",
   "name": "python",
   "nbconvert_exporter": "python",
   "pygments_lexer": "ipython3",
   "version": "3.11.4"
  },
  "orig_nbformat": 4
 },
 "nbformat": 4,
 "nbformat_minor": 2
}
